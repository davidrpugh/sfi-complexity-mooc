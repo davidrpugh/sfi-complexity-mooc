{
 "cells": [
  {
   "cell_type": "markdown",
   "metadata": {},
   "source": [
    "<h1>Trader Tournament</h1>\n",
    "\n",
    "Experimenting with a few ideas...\n",
    "\n"
   ]
  },
  {
   "cell_type": "code",
   "execution_count": 7,
   "metadata": {
    "collapsed": true
   },
   "outputs": [],
   "source": [
    "# load and configure required modules\n",
    "%load_ext autoreload\n",
    "%autoreload 2\n",
    "\n",
    "import math\n",
    "import numpy # numerics\n",
    "numpy.random.seed(13) # Ensuring that 'run all' always yields the exact same result\n",
    "import matplotlib.pyplot as plot\n",
    "%matplotlib inline"
   ]
  },
  {
   "cell_type": "code",
   "execution_count": 60,
   "metadata": {
    "collapsed": false
   },
   "outputs": [],
   "source": [
    "year = 100\n",
    "maxLeverage = 100\n",
    "\n",
    "class Wallet:\n",
    "    \n",
    "    def __init__(self):\n",
    "        self.amount = 0\n",
    "\n",
    "    "
   ]
  },
  {
   "cell_type": "code",
   "execution_count": 52,
   "metadata": {
    "collapsed": true
   },
   "outputs": [],
   "source": [
    "class Firm:\n",
    "    \n",
    "    # Global parameters\n",
    "    dailyReturnVariance = 0.001 # 0.1%\n",
    "    initialReturn = 0.1 # let firms start with a 10% ROE (return on equity)\n",
    "    initialCapital = 1000 # let firms start with 1000$\n",
    "    payoutRatio = 1.0 # ratio of the earnings that are distributed as dividends\n",
    "    \n",
    "    def __init__(self, ticker):\n",
    "        self.ticker = ticker\n",
    "        self.roe = self.initialReturn\n",
    "        self.capital = Wallet()\n",
    "        \n",
    "    def generateEarnings(self):\n",
    "        earnings = self.capital.amount * self.roe # can be negative\n",
    "        payout = max(0, earnings * self.payoutRatio) # cannot be negative\n",
    "        self.capital.amount += earnings - payout\n",
    "        return payout\n",
    "        \n",
    "    def adjustReturn(self):\n",
    "        self.roe = 0.9999 * (self.roe + numpy.random.normal(scale=self.dailyReturnVariance)) + 0.0001 * self.initialReturn\n",
    "        self.roe = min(max(self.roe, -0.5), 1.0)\n",
    "            \n",
    "    def getReturnOnEquity(self):\n",
    "        return self.roe\n",
    "    \n",
    "    def getCapital(self):\n",
    "        return self.capital.amount\n",
    "    \n",
    "    def getTicker(self):\n",
    "        return self.ticker"
   ]
  },
  {
   "cell_type": "code",
   "execution_count": 55,
   "metadata": {
    "collapsed": false
   },
   "outputs": [
    {
     "data": {
      "image/png": "[encoded data removed]",
      "text/plain": [
       "<matplotlib.figure.Figure at 0x22556c95978>"
      ]
     },
     "metadata": {},
     "output_type": "display_data"
    },
    {
     "data": {
      "image/png": "[encoded data removed]",
      "text/plain": [
       "<matplotlib.figure.Figure at 0x225569adc88>"
      ]
     },
     "metadata": {},
     "output_type": "display_data"
    }
   ],
   "source": [
    "f = Firm(\"GOOG\")\n",
    "\n",
    "days = []\n",
    "years = []\n",
    "roe = []\n",
    "capital = []\n",
    "dividend = []\n",
    "\n",
    "for anno in range(0, 1000):\n",
    "    for day in range(0, year):\n",
    "        f.adjustReturn()\n",
    "        roe.append(f.getReturnOnEquity())\n",
    "        days.append(day + anno * year)\n",
    "    years.append(anno)\n",
    "    dividend.append(f.generateEarnings())\n",
    "    capital.append(f.getCapital())\n",
    "\n",
    "plot.plot(years, capital, 'b', label='capital')\n",
    "plot.plot(years, dividend, 'g', label='dividend')\n",
    "plot.xlabel('year')\n",
    "plot.ylabel('amount')\n",
    "plot.legend(loc='upper left')\n",
    "plot.show()\n",
    "\n",
    "plot.plot(days, roe)\n",
    "plot.show()\n"
   ]
  },
  {
   "cell_type": "code",
   "execution_count": 58,
   "metadata": {
    "collapsed": false
   },
   "outputs": [],
   "source": [
    "class LimitOrder:\n",
    "    \n",
    "    def __init__(self, wallet, limitPrice, position, shares):\n",
    "        self.price = price\n",
    "        self.wallet = wallet\n",
    "        self.shares = shares\n",
    "        self.position = position\n",
    "        \n",
    "    def transfer(self, sourcePos, targetPos, shares, sourceWallet, targetWallet):\n",
    "        sourcePos.shares -= shares\n",
    "        tragetPos.shares += shares\n",
    "        self.shares -= shares;\n",
    "        proceeds = shares * price\n",
    "        sourceWallet.amount -= proceeds\n",
    "        targetWallet.amount += proceeds\n",
    "\n",
    "class Bid(LimitOrder):\n",
    "    def __init__():\n",
    "        LimitOrder.__init__(self, wallet, limitPrice, position, shares)\n",
    "        \n",
    "    def execute(self, otherWallet, askedShares, otherPosition):\n",
    "        shares = min(askedShares, otherPosition.shares, self.shares)\n",
    "        transfer(otherPosition, self.position, shares, self.wallet, otherWallet)\n",
    "        \n",
    "    def isActive():\n",
    "        return self.shares >= 0\n",
    "\n",
    "class Ask(LimitOrder):\n",
    "    def __init__():\n",
    "        LimitOrder.__init__(self, wallet, limitPrice, position, shares)\n",
    "            \n",
    "    def execute(self, otherWallet, bidShares, otherPosition):\n",
    "        shares = min(bidShares, otherPosition.shares, self.shares)  \n",
    "        transfer(self.position, otherPosition, shares, otherWallet, self.wallet)\n",
    "        \n",
    "    def isActive():\n",
    "        return self.shares >= 0 && self.position.shares >= 0"
   ]
  },
  {
   "cell_type": "code",
   "execution_count": 83,
   "metadata": {
    "collapsed": false
   },
   "outputs": [
    {
     "data": {
      "text/plain": [
       "[]"
      ]
     },
     "execution_count": 83,
     "metadata": {},
     "output_type": "execute_result"
    }
   ],
   "source": [
    "def priceGetter(o):\n",
    "    return o.price\n",
    "\n",
    "class Market:\n",
    "    \n",
    "    def __init__(self):\n",
    "        self.bids = []\n",
    "        self.asks = []\n",
    "        \n",
    "    def addLimitOrders(self, orders):\n",
    "        for o in orders:\n",
    "            if (isinstance(o, Ask)):\n",
    "                self.asks.append(o)\n",
    "            elif (isinstance(o, Bid)):\n",
    "                self.bids.append(o)\n",
    "        \n",
    "    def hasBids(self):\n",
    "        return getBestBid() is not None\n",
    "    \n",
    "    def hasAsks(self):\n",
    "        return getBestAsk() is not None\n",
    "    \n",
    "    def getBestBid():\n",
    "        return getBest(self.bids)\n",
    "    \n",
    "    def getBestAsk():\n",
    "        return getBest(self.asks)\n",
    "    \n",
    "    def getBest(orders):\n",
    "        if len(orders) == 0:\n",
    "            return None\n",
    "        b = bids[0]\n",
    "        if (b.isActive()):\n",
    "            return b\n",
    "        else:\n",
    "            orders.pop(0)\n",
    "            return getBest(orders)\n",
    "        \n",
    "    def prepare(self):\n",
    "        self.asks = sorted(self.asks, key=priceGetter, reverse=False)\n",
    "        self.bids = sorted(self.bids, key=priceGetter, reverse=True)\n",
    "        while(self.hasBids() and self.hasAsks() and self.getBestBid().price >= self.getBestAsk().price):\n",
    "            b = self.getFirstBid()\n",
    "            a = self.getFirstAsk()\n",
    "            a.execute(b.wallet, b.shares, b.position)\n",
    "        \n",
    "        \n",
    "m = Market()\n",
    "f1 = ListedFirm(\"GOOG\")\n",
    "m.addLimitOrders(f1.createLimitOrders())\n",
    "\n",
    "m.bids\n",
    "m.asks\n",
    "\n",
    "    "
   ]
  },
  {
   "cell_type": "code",
   "execution_count": 72,
   "metadata": {
    "collapsed": false
   },
   "outputs": [],
   "source": [
    "class MarketParticipant:\n",
    "    \n",
    "    def __init__(self):\n",
    "        self.portfolio = Portfolio()\n",
    "    \n",
    "    def createLimitOrders(self):\n",
    "        return []\n",
    "        \n",
    "    def issueMarketOrders(self):\n",
    "        return\n",
    "    \n",
    "class Position:\n",
    "    \n",
    "    def __init__(self, ticker):\n",
    "        self.ticker = ticker\n",
    "        self.shares = 0\n",
    "    \n",
    "class Portfolio:\n",
    "    \n",
    "    def __init__(self):\n",
    "        self.positions = []\n",
    "        \n",
    "    def receiveDividend(ticker, amountPerShare):\n",
    "        position = findPosition(ticker)\n",
    "        if (position):\n",
    "            return position.getShares() * amountPerShare\n",
    "        else:\n",
    "            return 0\n",
    "    "
   ]
  },
  {
   "cell_type": "code",
   "execution_count": 74,
   "metadata": {
    "collapsed": false
   },
   "outputs": [],
   "source": [
    "class ListedFirm(Firm, MarketParticipant):\n",
    "    \n",
    "    def __init__(self, ticker):\n",
    "        Firm.__init__(self, ticker)\n",
    "        MarketParticipant.__init__(self)\n",
    "        self.createdShares = 0\n",
    "\n",
    "    def generateDividend(self):\n",
    "        earnings = self.generateEarnings()\n",
    "        return earnings / getOutstandingShares()\n",
    "    \n",
    "    def getOutstandingShares(self):\n",
    "        return self.createdShares - self.portfolio.getPosition(self.ticker).shares;\n",
    "    \n",
    "    def createLimitOrders(self):\n",
    "        basePrice = self.capital.amount / self.createdShares\n",
    "        position = self.portfolio.getPosition(self.ticker)\n",
    "        delta = position.shares - 100\n",
    "        position.shares = 100\n",
    "        self.createdShares -= delta\n",
    "        return [Bid(self.capital, basePrice / 2, position, 100), Ask(self.capital, basePrice*2, position, 100)]\n",
    "    "
   ]
  }
 ],
 "metadata": {
  "kernelspec": {
   "display_name": "Python 3",
   "language": "python",
   "name": "python3"
  },
  "language_info": {
   "codemirror_mode": {
    "name": "ipython",
    "version": 3
   },
   "file_extension": ".py",
   "mimetype": "text/x-python",
   "name": "python",
   "nbconvert_exporter": "python",
   "pygments_lexer": "ipython3",
   "version": "3.5.1"
  }
 },
 "nbformat": 4,
 "nbformat_minor": 0
}
