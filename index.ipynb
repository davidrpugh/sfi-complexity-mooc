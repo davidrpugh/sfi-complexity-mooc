{
 "cells": [
  {
   "cell_type": "markdown",
   "metadata": {},
   "source": [
    "<h1 align=center> SFI Complexity Economics MOOC </h1>\n",
    "\n",
    "<h3 align=center> Prof. J. Doyne Farmer and Dr. David R. Pugh </h3>\n",
    "\n",
    "Here are links to the current list of lectures...\n",
    "\n",
    "<ul>\n",
    "    <li> <a href=\"./notebooks/cobweb-models.ipynb\">The role of expectations</a> (based on work by Cars Hommes)</li>\n",
    "    <li> <a href=\"./notebooks/leverage.ipynb\">Leverage and Crashes</a> (based on work by Thurner, Farmer, Geanakoplos)</li>\n",
    "</ul>"
   ]
  },
  {
   "cell_type": "code",
   "execution_count": null,
   "metadata": {
    "collapsed": true
   },
   "outputs": [],
   "source": []
  }
 ],
 "metadata": {
  "kernelspec": {
   "display_name": "Python 3",
   "language": "python",
   "name": "python3"
  },
  "language_info": {
   "codemirror_mode": {
    "name": "ipython",
    "version": 3
   },
   "file_extension": ".py",
   "mimetype": "text/x-python",
   "name": "python",
   "nbconvert_exporter": "python",
   "pygments_lexer": "ipython3",
   "version": "3.4.4"
  }
 },
 "nbformat": 4,
 "nbformat_minor": 0
}
